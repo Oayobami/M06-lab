{
 "cells": [
  {
   "cell_type": "markdown",
   "id": "408752ca-2ce0-4edc-8cff-8b33c1808b58",
   "metadata": {},
   "source": [
    "Name: Ayobami Oluwadeyi\n",
    "File: M06-lab.ipynb\n",
    "Description: "
   ]
  },
  {
   "cell_type": "code",
   "execution_count": 4,
   "id": "79726c83-9abe-45e6-bcdb-686508aabd80",
   "metadata": {},
   "outputs": [],
   "source": [
    "#13.1\n",
    "from datetime import datetime\n",
    "#using open() function to read current text in file \n",
    "with open(\"today.txt\", mode='w', encoding='utf-8') as file:\n",
    "        \n",
    "    # Get the current datetime\n",
    "    current_datetime = datetime.now()\n",
    "    \n",
    "    # Format the datetime as a string, taking only the date\n",
    "    formatted_string = current_datetime.strftime(\"%Y-%m-%d\")\n",
    "    file.write(formatted_string)"
   ]
  },
  {
   "cell_type": "code",
   "execution_count": 5,
   "id": "8fd72376-b0af-4a0e-b51f-edfb3d883c7e",
   "metadata": {},
   "outputs": [
    {
     "name": "stdout",
     "output_type": "stream",
     "text": [
      "2024-04-28\n"
     ]
    }
   ],
   "source": [
    "#13.2\n",
    "#using open() function to read current text in file \n",
    "\n",
    "with open(\"today.txt\", mode='r', encoding='utf-8') as file:\n",
    "    today_string = file.read()\n",
    "    print(today_string)"
   ]
  },
  {
   "cell_type": "code",
   "execution_count": 8,
   "id": "6e040867-89ce-4b77-9f10-1f712a78598b",
   "metadata": {},
   "outputs": [
    {
     "name": "stdout",
     "output_type": "stream",
     "text": [
      "2024-04-28 00:00:00\n"
     ]
    }
   ],
   "source": [
    "#13.3\n",
    "\n",
    "#convert datetime string back to datetime object\n",
    "parsed_date = datetime.strptime(today_string, \"%Y-%m-%d\")\n",
    "print(parsed_date)"
   ]
  },
  {
   "cell_type": "code",
   "execution_count": 9,
   "id": "773c0ff3-bee8-413a-a92d-29185181e113",
   "metadata": {},
   "outputs": [
    {
     "name": "stdout",
     "output_type": "stream",
     "text": [
      "All processes have finished.\n"
     ]
    }
   ],
   "source": [
    "#15.1\n",
    "\n",
    "import multiprocessing\n",
    "import time\n",
    "import random\n",
    "import datetime\n",
    "\n",
    "def process_function():\n",
    "    # Generate a random wait time between 0 and 1 second\n",
    "    wait_time = random.random()\n",
    "    time.sleep(wait_time)\n",
    "    \n",
    "    # Print the current time\n",
    "    current_time = datetime.datetime.now()\n",
    "    print(\"Current time:\", current_time)\n",
    "    \n",
    "    # Exit the process\n",
    "    print(\"Process completed.\")\n",
    "\n",
    "if __name__ == \"__main__\":\n",
    "    # Create three separate processes\n",
    "    processes = []\n",
    "    for _ in range(3):\n",
    "        process = multiprocessing.Process(target=process_function)\n",
    "        processes.append(process)\n",
    "        process.start()\n",
    "    \n",
    "    # Wait for all processes to finish\n",
    "    for process in processes:\n",
    "        process.join()\n",
    "\n",
    "    print(\"All processes have finished.\")\n",
    "\n"
   ]
  },
  {
   "cell_type": "code",
   "execution_count": null,
   "id": "ff53ddb0-61ef-4233-8259-79d9b563c7bf",
   "metadata": {},
   "outputs": [],
   "source": []
  },
  {
   "cell_type": "code",
   "execution_count": null,
   "id": "ee019bb3-add8-4e7f-b6f0-54b9e66d7592",
   "metadata": {},
   "outputs": [],
   "source": []
  },
  {
   "cell_type": "code",
   "execution_count": null,
   "id": "ca788c3f-c967-4220-b60c-2f588280d7fa",
   "metadata": {},
   "outputs": [],
   "source": []
  },
  {
   "cell_type": "code",
   "execution_count": null,
   "id": "d002eef9-ba2b-45fc-8d7b-cad6247312b8",
   "metadata": {},
   "outputs": [],
   "source": []
  }
 ],
 "metadata": {
  "kernelspec": {
   "display_name": "Python 3 (ipykernel)",
   "language": "python",
   "name": "python3"
  },
  "language_info": {
   "codemirror_mode": {
    "name": "ipython",
    "version": 3
   },
   "file_extension": ".py",
   "mimetype": "text/x-python",
   "name": "python",
   "nbconvert_exporter": "python",
   "pygments_lexer": "ipython3",
   "version": "3.11.7"
  }
 },
 "nbformat": 4,
 "nbformat_minor": 5
}
